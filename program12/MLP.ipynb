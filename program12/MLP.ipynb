{
 "cells": [
  {
   "cell_type": "code",
   "execution_count": 15,
   "metadata": {},
   "outputs": [],
   "source": [
    "import numpy as np "
   ]
  },
  {
   "cell_type": "code",
   "execution_count": 16,
   "metadata": {},
   "outputs": [],
   "source": [
    "def sigmoid(x):\n",
    "    return 1 / (1 + np.exp(-x))\n",
    "\n",
    "def sigmoidDerivative(x):\n",
    "    return x * (1 - x)\n"
   ]
  },
  {
   "cell_type": "code",
   "execution_count": 17,
   "metadata": {},
   "outputs": [],
   "source": [
    "class MLP:\n",
    "    def __init__(self) -> None:\n",
    "        self.w1 = np.random.rand(2,2)\n",
    "        self.b1 = np.random.rand(2)\n",
    "        \n",
    "        self.w2 = np.random.rand(2,1)\n",
    "        self.b2 = np.random.rand(1)\n",
    "\n",
    "        self.lr = 0.1\n",
    "\n",
    "    def forward(self , x):\n",
    "        op1 = np.dot(x , self.w1) + self.b1\n",
    "        self.op1 = sigmoid(op1)\n",
    "        \n",
    "        op2 = np.dot(self.op1 , self.w2) + self.b2\n",
    "        self.op2 = sigmoid(op2)\n",
    "\n",
    "        return self.op2\n",
    "    \n",
    "    def backward(self , x , y):\n",
    "\n",
    "        error = y - self.op2\n",
    "        delta1 = error * sigmoidDerivative(self.op2)\n",
    "\n",
    "        error = delta1.dot(self.w2.T)\n",
    "        delta2  = error * sigmoidDerivative(self.op1)\n",
    "\n",
    "        self.w2 += self.op1.T.dot(delta1) * self.lr\n",
    "        self.b2 += np.sum(delta1)  * self.lr\n",
    "\n",
    "        self.w1 += x.T.dot(delta2) * self.lr\n",
    "        self.b1 += np.sum(delta2) * self.lr\n",
    "    \n",
    "    def predict(self , x):\n",
    "        op = self.forward(x)\n",
    "        return int(op > 0.5)\n",
    "    \n",
    "    def fit(self , x , y , epoch = 5500):\n",
    "\n",
    "        for _ in range(epoch):\n",
    "            self.forward(x)\n",
    "            self.backward(x , y)"
   ]
  },
  {
   "cell_type": "code",
   "execution_count": 18,
   "metadata": {},
   "outputs": [],
   "source": [
    "mlp = MLP()"
   ]
  },
  {
   "cell_type": "code",
   "execution_count": 19,
   "metadata": {},
   "outputs": [],
   "source": [
    "X = np.array([[0,0],[0,1],[1,0],[1,1]])\n",
    "y = np.array([[0],[1],[1],[0]])"
   ]
  },
  {
   "cell_type": "code",
   "execution_count": 20,
   "metadata": {},
   "outputs": [],
   "source": [
    "mlp.fit(X , y)"
   ]
  },
  {
   "cell_type": "code",
   "execution_count": 21,
   "metadata": {},
   "outputs": [
    {
     "name": "stdout",
     "output_type": "stream",
     "text": [
      "0\n",
      "1\n",
      "1\n",
      "0\n"
     ]
    },
    {
     "name": "stderr",
     "output_type": "stream",
     "text": [
      "C:\\Users\\DELL\\AppData\\Local\\Temp\\ipykernel_23520\\3453649175.py:36: DeprecationWarning: Conversion of an array with ndim > 0 to a scalar is deprecated, and will error in future. Ensure you extract a single element from your array before performing this operation. (Deprecated NumPy 1.25.)\n",
      "  return int(op > 0.5)\n"
     ]
    }
   ],
   "source": [
    "for ele in X:\n",
    "    print(mlp.predict(ele))"
   ]
  },
  {
   "cell_type": "code",
   "execution_count": null,
   "metadata": {},
   "outputs": [],
   "source": []
  }
 ],
 "metadata": {
  "kernelspec": {
   "display_name": "Python 3",
   "language": "python",
   "name": "python3"
  },
  "language_info": {
   "codemirror_mode": {
    "name": "ipython",
    "version": 3
   },
   "file_extension": ".py",
   "mimetype": "text/x-python",
   "name": "python",
   "nbconvert_exporter": "python",
   "pygments_lexer": "ipython3",
   "version": "3.12.2"
  }
 },
 "nbformat": 4,
 "nbformat_minor": 2
}
